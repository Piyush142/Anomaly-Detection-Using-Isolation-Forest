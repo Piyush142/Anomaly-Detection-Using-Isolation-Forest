{
 "cells": [
  {
   "cell_type": "code",
   "execution_count": 1,
   "metadata": {},
   "outputs": [
    {
     "name": "stdout",
     "output_type": "stream",
     "text": [
      "Requirement already satisfied: sklearn in /home/richguy142/anaconda3/lib/python3.7/site-packages (0.0)\n",
      "Requirement already satisfied: scikit-learn in /home/richguy142/anaconda3/lib/python3.7/site-packages (from sklearn) (0.20.3)\n",
      "Requirement already satisfied: numpy>=1.8.2 in /home/richguy142/anaconda3/lib/python3.7/site-packages (from scikit-learn->sklearn) (1.16.2)\n",
      "Requirement already satisfied: scipy>=0.13.3 in /home/richguy142/anaconda3/lib/python3.7/site-packages (from scikit-learn->sklearn) (1.2.1)\n",
      "Requirement already satisfied: matplotlib in /home/richguy142/anaconda3/lib/python3.7/site-packages (3.0.3)\n",
      "Requirement already satisfied: numpy>=1.10.0 in /home/richguy142/anaconda3/lib/python3.7/site-packages (from matplotlib) (1.16.2)\n",
      "Requirement already satisfied: cycler>=0.10 in /home/richguy142/anaconda3/lib/python3.7/site-packages (from matplotlib) (0.10.0)\n",
      "Requirement already satisfied: kiwisolver>=1.0.1 in /home/richguy142/anaconda3/lib/python3.7/site-packages (from matplotlib) (1.0.1)\n",
      "Requirement already satisfied: pyparsing!=2.0.4,!=2.1.2,!=2.1.6,>=2.0.1 in /home/richguy142/anaconda3/lib/python3.7/site-packages (from matplotlib) (2.3.1)\n",
      "Requirement already satisfied: python-dateutil>=2.1 in /home/richguy142/anaconda3/lib/python3.7/site-packages (from matplotlib) (2.8.0)\n",
      "Requirement already satisfied: six in /home/richguy142/anaconda3/lib/python3.7/site-packages (from cycler>=0.10->matplotlib) (1.12.0)\n",
      "Requirement already satisfied: setuptools in /home/richguy142/anaconda3/lib/python3.7/site-packages (from kiwisolver>=1.0.1->matplotlib) (41.0.0)\n",
      "Requirement already satisfied: pandas in /home/richguy142/anaconda3/lib/python3.7/site-packages (0.24.2)\n",
      "Requirement already satisfied: numpy>=1.12.0 in /home/richguy142/anaconda3/lib/python3.7/site-packages (from pandas) (1.16.2)\n",
      "Requirement already satisfied: python-dateutil>=2.5.0 in /home/richguy142/anaconda3/lib/python3.7/site-packages (from pandas) (2.8.0)\n",
      "Requirement already satisfied: pytz>=2011k in /home/richguy142/anaconda3/lib/python3.7/site-packages (from pandas) (2018.9)\n",
      "Requirement already satisfied: six>=1.5 in /home/richguy142/anaconda3/lib/python3.7/site-packages (from python-dateutil>=2.5.0->pandas) (1.12.0)\n",
      "Requirement already satisfied: numpy in /home/richguy142/anaconda3/lib/python3.7/site-packages (1.16.2)\n"
     ]
    }
   ],
   "source": [
    "!pip install sklearn\n",
    "!pip install matplotlib\n",
    "!pip install pandas\n",
    "!pip install numpy"
   ]
  },
  {
   "cell_type": "code",
   "execution_count": 2,
   "metadata": {},
   "outputs": [],
   "source": [
    "import numpy as np\n",
    "import sklearn\n",
    "import pandas as pd\n",
    "import matplotlib\n",
    "import matplotlib.pylab as plt\n",
    "from sklearn.ensemble import IsolationForest\n",
    "from sklearn import preprocessing\n",
    "%matplotlib inline\n",
    "from matplotlib.pylab import rcParams\n",
    "rcParams['figure.figsize'] = 10,6"
   ]
  },
  {
   "cell_type": "code",
   "execution_count": 3,
   "metadata": {},
   "outputs": [
    {
     "data": {
      "text/html": [
       "<div>\n",
       "<style scoped>\n",
       "    .dataframe tbody tr th:only-of-type {\n",
       "        vertical-align: middle;\n",
       "    }\n",
       "\n",
       "    .dataframe tbody tr th {\n",
       "        vertical-align: top;\n",
       "    }\n",
       "\n",
       "    .dataframe thead th {\n",
       "        text-align: right;\n",
       "    }\n",
       "</style>\n",
       "<table border=\"1\" class=\"dataframe\">\n",
       "  <thead>\n",
       "    <tr style=\"text-align: right;\">\n",
       "      <th></th>\n",
       "      <th>temperature</th>\n",
       "      <th>humidity</th>\n",
       "      <th>rain</th>\n",
       "      <th>pressure</th>\n",
       "      <th>windspeed</th>\n",
       "      <th>signal</th>\n",
       "      <th>timestamp</th>\n",
       "      <th>date</th>\n",
       "    </tr>\n",
       "    <tr>\n",
       "      <th>datetime</th>\n",
       "      <th></th>\n",
       "      <th></th>\n",
       "      <th></th>\n",
       "      <th></th>\n",
       "      <th></th>\n",
       "      <th></th>\n",
       "      <th></th>\n",
       "      <th></th>\n",
       "    </tr>\n",
       "  </thead>\n",
       "  <tbody>\n",
       "    <tr>\n",
       "      <th>2018-12-31 03:35:20</th>\n",
       "      <td>20.2</td>\n",
       "      <td>66</td>\n",
       "      <td>0</td>\n",
       "      <td>92839</td>\n",
       "      <td>3.7</td>\n",
       "      <td>27</td>\n",
       "      <td>1546227320904</td>\n",
       "      <td>2018-12-31</td>\n",
       "    </tr>\n",
       "    <tr>\n",
       "      <th>2018-12-31 03:41:17</th>\n",
       "      <td>20.5</td>\n",
       "      <td>65</td>\n",
       "      <td>0</td>\n",
       "      <td>92837</td>\n",
       "      <td>1.7</td>\n",
       "      <td>27</td>\n",
       "      <td>1546227677750</td>\n",
       "      <td>2018-12-31</td>\n",
       "    </tr>\n",
       "    <tr>\n",
       "      <th>2018-12-31 03:47:14</th>\n",
       "      <td>20.6</td>\n",
       "      <td>63</td>\n",
       "      <td>0</td>\n",
       "      <td>92830</td>\n",
       "      <td>6.6</td>\n",
       "      <td>27</td>\n",
       "      <td>1546228034809</td>\n",
       "      <td>2018-12-31</td>\n",
       "    </tr>\n",
       "    <tr>\n",
       "      <th>2018-12-31 03:53:11</th>\n",
       "      <td>20.8</td>\n",
       "      <td>62</td>\n",
       "      <td>0</td>\n",
       "      <td>92833</td>\n",
       "      <td>3.3</td>\n",
       "      <td>27</td>\n",
       "      <td>1546228391798</td>\n",
       "      <td>2018-12-31</td>\n",
       "    </tr>\n",
       "    <tr>\n",
       "      <th>2018-12-31 03:59:08</th>\n",
       "      <td>21.1</td>\n",
       "      <td>61</td>\n",
       "      <td>0</td>\n",
       "      <td>92841</td>\n",
       "      <td>3.2</td>\n",
       "      <td>27</td>\n",
       "      <td>1546228748671</td>\n",
       "      <td>2018-12-31</td>\n",
       "    </tr>\n",
       "  </tbody>\n",
       "</table>\n",
       "</div>"
      ],
      "text/plain": [
       "                     temperature  humidity  rain  pressure  windspeed  signal  \\\n",
       "datetime                                                                        \n",
       "2018-12-31 03:35:20         20.2        66     0     92839        3.7      27   \n",
       "2018-12-31 03:41:17         20.5        65     0     92837        1.7      27   \n",
       "2018-12-31 03:47:14         20.6        63     0     92830        6.6      27   \n",
       "2018-12-31 03:53:11         20.8        62     0     92833        3.3      27   \n",
       "2018-12-31 03:59:08         21.1        61     0     92841        3.2      27   \n",
       "\n",
       "                         timestamp        date  \n",
       "datetime                                        \n",
       "2018-12-31 03:35:20  1546227320904  2018-12-31  \n",
       "2018-12-31 03:41:17  1546227677750  2018-12-31  \n",
       "2018-12-31 03:47:14  1546228034809  2018-12-31  \n",
       "2018-12-31 03:53:11  1546228391798  2018-12-31  \n",
       "2018-12-31 03:59:08  1546228748671  2018-12-31  "
      ]
     },
     "execution_count": 3,
     "metadata": {},
     "output_type": "execute_result"
    }
   ],
   "source": [
    "df = pd.read_csv(\"combined.csv\",skiprows=1)\n",
    "df['datetime'] = pd.to_datetime(df['date'],infer_datetime_format=\"%Y-%m-%d %H:%M:%S\")\n",
    "df = df.set_index('datetime')\n",
    "df.drop(['date'], axis=1, inplace=True)\n",
    "df[\"date\"] = df.index.date\n",
    "df.drop('timestamp',axis=1);\n",
    "df.head()\n",
    "#for per day data set use #df = df.resample('D').mean()\n",
    "#df = df.resample('D').mean()"
   ]
  },
  {
   "cell_type": "code",
   "execution_count": 4,
   "metadata": {},
   "outputs": [],
   "source": [
    "#indexing datetime\n",
    "df.index = pd.to_datetime(df.index)\n",
    "df.drop('timestamp',axis=1);"
   ]
  },
  {
   "cell_type": "code",
   "execution_count": 5,
   "metadata": {},
   "outputs": [],
   "source": [
    "# #plotting individual data with respect to time remove comment to visuilize.\n",
    "\n",
    "# plt.plot_date(matplotlib.dates.date2num(df.date), df.signal, fmt='o', xdate=True, ydate=False,marker='o',linewidth=0.1, markersize=4);\n",
    "# plt.xticks(rotation='vertical');\n",
    "# plt.plot_date(matplotlib.dates.date2num(df.date), df.temperature, fmt='o', xdate=True, ydate=False,marker='o',linewidth=0.1, markersize=4);\n",
    "# plt.xticks(rotation='vertical');\n",
    "# plt.plot_date(matplotlib.dates.date2num(df.date), df.rain, fmt='o', xdate=True, ydate=False,marker='o',linewidth=0.1, markersize=4);\n",
    "# plt.xticks(rotation='vertical');\n",
    "# plt.plot_date(matplotlib.dates.date2num(df.date), df.humidity, fmt='o',xdate=True, ydate=False,marker='o',linewidth=0.1, markersize=4);\n",
    "# plt.xticks(rotation='vertical');\n",
    "# plt.plot_date(matplotlib.dates.date2num(df.date), df.pressure, fmt='o',xdate=True, ydate=False,marker='o',linewidth=0.1, markersize=4);\n",
    "# plt.xticks(rotation='vertical');\n",
    "# plt.plot_date(matplotlib.dates.date2num(df.date), df.windspeed, fmt='o', tz=None, xdate=True, ydate=False,marker='o',linewidth=0.1, markersize=4);\n",
    "# plt.xticks(rotation='vertical');"
   ]
  },
  {
   "cell_type": "code",
   "execution_count": 6,
   "metadata": {},
   "outputs": [
    {
     "data": {
      "image/png": "[encoded data removed]",
      "text/plain": [
       "<Figure size 720x360 with 1 Axes>"
      ]
     },
     "metadata": {
      "needs_background": "light"
     },
     "output_type": "display_data"
    }
   ],
   "source": [
    "#Finding Number of components to keep\n",
    "data = df[['temperature','humidity','rain','pressure','windspeed','signal']]\n",
    "X = data.values\n",
    "X_std = scaler = preprocessing.StandardScaler(copy=True, with_mean=True, with_std=True).fit_transform(X)\n",
    "mean_vec = np.mean(X_std, axis=0)\n",
    "cov_mat = np.cov(X_std.T)\n",
    "eig_vals, eig_vecs = np.linalg.eig(cov_mat)\n",
    "eig_pairs = [ (np.abs(eig_vals[i]),eig_vecs[:,i]) for i in range(len(eig_vals))]\n",
    "eig_pairs.sort(key = lambda x: x[0], reverse= True)\n",
    "tot = sum(eig_vals)\n",
    "var_exp = [(i/tot)*100 for i in sorted(eig_vals, reverse=True)] # Individual explained variance\n",
    "cum_var_exp = np.cumsum(var_exp) # Cumulative explained variance\n",
    "\n",
    "plt.figure(figsize=(10, 5))\n",
    "plt.bar(range(len(var_exp)), var_exp, alpha=0.3, align='center', label='individual explained variance', color = 'g')\n",
    "plt.step(range(len(cum_var_exp)), cum_var_exp, where='mid',label='cumulative explained variance')\n",
    "plt.ylabel('Explained variance ratio')\n",
    "plt.xlabel('Principal components')\n",
    "plt.legend(loc='best')\n",
    "plt.show();"
   ]
  },
  {
   "cell_type": "code",
   "execution_count": 7,
   "metadata": {},
   "outputs": [],
   "source": [
    "# Droppin signal, i.e; contributes less to variation\n",
    "data = df[['temperature','humidity','rain','pressure','windspeed']]"
   ]
  },
  {
   "cell_type": "code",
   "execution_count": null,
   "metadata": {},
   "outputs": [
    {
     "name": "stderr",
     "output_type": "stream",
     "text": [
      "/home/richguy142/anaconda3/lib/python3.7/site-packages/sklearn/ensemble/iforest.py:223: FutureWarning: behaviour=\"old\" is deprecated and will be removed in version 0.22. Please use behaviour=\"new\", which makes the decision_function change to match other anomaly detection algorithm API.\n",
      "  FutureWarning)\n"
     ]
    }
   ],
   "source": [
    "#Using IsolationForest algorithm to find anamolys\n",
    "model =  IsolationForest(n_estimators=2000 ,contamination=0.005)\n",
    "model.fit(data)\n",
    "df['anomaly2'] = model.predict(data)\n",
    "\n",
    "# visualization\n",
    "fig, ax = plt.subplots(figsize=(10,6))\n",
    "\n",
    "a = df.loc[df['anomaly2'] == -1, ['date', 'temperature']] #anomaly\n",
    "\n",
    "ax.plot(df['date'], df['temperature'], color='blue', label = 'Normal')\n",
    "ax.scatter(a['date'],a['temperature'], color='red', label = 'Anomaly',marker='o')\n",
    "plt.legend()\n",
    "plt.show();"
   ]
  },
  {
   "cell_type": "code",
   "execution_count": null,
   "metadata": {},
   "outputs": [],
   "source": [
    "#Plotting wrt humidity and can be similarly plotted for all variables\n",
    "fig, ax = plt.subplots(figsize=(10,6))\n",
    "a = df.loc[df['anomaly2'] == -1, ['date', 'humidity']] #anomaly\n",
    "\n",
    "ax.plot(df['date'], df['humidity'], color='blue', label = 'Normal')\n",
    "ax.scatter(a['date'],a['humidity'], color='red', label = 'Anomaly',marker='o')\n",
    "plt.legend()\n",
    "plt.show();"
   ]
  },
  {
   "cell_type": "code",
   "execution_count": null,
   "metadata": {},
   "outputs": [],
   "source": [
    "#Removing the anamolys and plotting again\n",
    "data = data[df['anomaly2'] == 1]\n",
    "fig, ax = plt.subplots(figsize=(10,6))\n",
    "\n",
    "ax.plot(data.index, data['temperature'], color='blue', label = 'Normal')\n",
    "plt.legend()\n",
    "plt.show();"
   ]
  },
  {
   "cell_type": "code",
   "execution_count": null,
   "metadata": {},
   "outputs": [],
   "source": []
  }
 ],
 "metadata": {
  "kernelspec": {
   "display_name": "Python 3",
   "language": "python",
   "name": "python3"
  },
  "language_info": {
   "codemirror_mode": {
    "name": "ipython",
    "version": 3
   },
   "file_extension": ".py",
   "mimetype": "text/x-python",
   "name": "python",
   "nbconvert_exporter": "python",
   "pygments_lexer": "ipython3",
   "version": "3.7.3"
  }
 },
 "nbformat": 4,
 "nbformat_minor": 2
}
